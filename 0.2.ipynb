{
 "cells": [
  {
   "cell_type": "markdown",
   "id": "fc81bf0f-8099-4c7d-bffd-44de8bf2ea43",
   "metadata": {},
   "source": [
    "##### Python Questions Practical\n",
    " Note: In every program you have to use class, function and proper Exception handling.\n",
    " \n",
    " 1. Take the input from user and find whether number is prime or not?\n",
    " Prime numbers are number which are divide by 1 or themselves only.\n",
    " Example: 13 is a prime number.\n",
    " Example: 97 is a prime number\n"
   ]
  },
  {
   "cell_type": "code",
   "execution_count": 1,
   "id": "58d590e1-f93a-4cec-8504-b4eafa88bbc2",
   "metadata": {},
   "outputs": [
    {
     "name": "stdin",
     "output_type": "stream",
     "text": [
      "ek number daliy: 5\n"
     ]
    },
    {
     "name": "stdout",
     "output_type": "stream",
     "text": [
      "5 ek prime numbr hai.\n"
     ]
    }
   ],
   "source": [
    " def is_prime(num):\n",
    "    if num <=1:\n",
    "        return False\n",
    "    for i in range(2,num):\n",
    "        if num % i ==0:\n",
    "            return False\n",
    "    return True \n",
    "    \n",
    "user_input=int(input(\"ek number daliy:\"))\n",
    "if is_prime(user_input):\n",
    "    print(f\"{user_input} ek prime numbr hai.\")\n",
    "else:\n",
    "    print(f\"{user_input} ek prime numbr nhi hai.\")\n",
    "    "
   ]
  },
  {
   "cell_type": "code",
   "execution_count": 2,
   "id": "52d99ea8-5695-4f38-9d46-189024bd1162",
   "metadata": {},
   "outputs": [
    {
     "name": "stdin",
     "output_type": "stream",
     "text": [
      "Ek number daaliye:  7\n"
     ]
    },
    {
     "name": "stdout",
     "output_type": "stream",
     "text": [
      "7 ek prime number hai.\n"
     ]
    }
   ],
   "source": [
    "class PrimeChecker:\n",
    "    def __init__(self, num):\n",
    "        self.num = num\n",
    "\n",
    "    def is_prime(self):\n",
    "        if self.num <= 1:\n",
    "            return False\n",
    "        for i in range(2, self.num):\n",
    "            if self.num % i == 0:\n",
    "                return False\n",
    "        return True\n",
    "\n",
    "# User se input le\n",
    "user_input = int(input(\"Ek number daaliye: \"))\n",
    "checker = PrimeChecker(user_input)\n",
    "\n",
    "\n",
    "# Prime check karne ke liye method call karna\n",
    "if checker.is_prime():\n",
    "    print(f\"{user_input} ek prime number hai.\")\n",
    "else:\n",
    "    print(f\"{user_input} prime number nahi hai.\")\n",
    "    "
   ]
  },
  {
   "cell_type": "markdown",
   "id": "adc4335a-6b40-49ec-a976-7900d7cc7a72",
   "metadata": {},
   "source": [
    "# question2= Reverse the string using for loop.\n",
    " string = \"Python\"\n",
    " Expected output = \"nohtyP\""
   ]
  },
  {
   "cell_type": "code",
   "execution_count": 3,
   "id": "a80d589e-565d-4bd8-8aa9-1064bfbefadd",
   "metadata": {},
   "outputs": [],
   "source": [
    "def make_reverse():\n",
    "      original = \"python\"\n",
    "      reversed_string = \"\"\n",
    "      for char in original:\n",
    "          reversed_string = char + reversed_string\n",
    "      print(reversed_string)  "
   ]
  },
  {
   "cell_type": "code",
   "execution_count": 4,
   "id": "1c88eb30-1ee7-4aa2-92e4-054a37df388b",
   "metadata": {},
   "outputs": [
    {
     "name": "stdout",
     "output_type": "stream",
     "text": [
      "nohtyp\n"
     ]
    }
   ],
   "source": [
    "make_reverse()\n"
   ]
  },
  {
   "cell_type": "code",
   "execution_count": 5,
   "id": "4a80931f-813f-4259-9137-e41b0d40f66b",
   "metadata": {},
   "outputs": [],
   "source": [
    "class make_reverse_class:\n",
    "    def __init__(self,original):\n",
    "        self.original=original \n",
    "        \n",
    "    def make_reverse(self):\n",
    "        reversed_string = \"\"\n",
    "        for char in self.original:\n",
    "            reversed_string = char + reversed_string\n",
    "        print(reversed_string)  "
   ]
  },
  {
   "cell_type": "code",
   "execution_count": 6,
   "id": "e5587005-4487-4dfd-92f8-f1b3e647c957",
   "metadata": {},
   "outputs": [
    {
     "name": "stdout",
     "output_type": "stream",
     "text": [
      "tihor\n"
     ]
    }
   ],
   "source": [
    "object1 = make_reverse_class(\"rohit\")\n",
    "object1.make_reverse()"
   ]
  },
  {
   "cell_type": "markdown",
   "id": "5f1a8ed2-a9f5-4ecd-8e6f-12ba6fe8ad6d",
   "metadata": {},
   "source": [
    "# qestion3. Palindrome Check (String Problem)\n",
    " Write a function to check whether a given string is a palindrome (a string that reads the same\n",
    " forward and backward is called palindrome).\n",
    " String = “mom” # if we reverse this string, we get the same Output “mom”\n",
    " Expected output: string is a palindrome"
   ]
  },
  {
   "cell_type": "code",
   "execution_count": 7,
   "id": "24343416-1f7f-4b17-94fb-8cca889f585b",
   "metadata": {},
   "outputs": [
    {
     "name": "stdout",
     "output_type": "stream",
     "text": [
      "The string is a palindrome\n"
     ]
    }
   ],
   "source": [
    "word = \"mom\"\n",
    "if word == word[::-1]:\n",
    "    print(\"The string is a palindrome\")\n",
    "else:\n",
    "    print(\"The string is not a palindrome\")\n"
   ]
  },
  {
   "cell_type": "code",
   "execution_count": 8,
   "id": "17c86c79-604a-4d02-aa23-ee35c9fcccc1",
   "metadata": {},
   "outputs": [],
   "source": [
    "def is_palindrome(word):\n",
    "    if word == word[::-1]:\n",
    "        print(\"The string is a palindrome\")\n",
    "    else:\n",
    "        print(\"The string is not a palindrome\")\n"
   ]
  },
  {
   "cell_type": "code",
   "execution_count": 9,
   "id": "04095cd4-571c-4c18-971c-8c8fece0e701",
   "metadata": {},
   "outputs": [
    {
     "name": "stdout",
     "output_type": "stream",
     "text": [
      "The string is a palindrome\n"
     ]
    }
   ],
   "source": [
    "is_palindrome('mom')"
   ]
  },
  {
   "cell_type": "code",
   "execution_count": 10,
   "id": "613a2dde-f289-4ca2-a511-f2f14849e877",
   "metadata": {},
   "outputs": [],
   "source": [
    "class make_palindrome:\n",
    "    def __init__(self,word):\n",
    "        self.word = word\n",
    "    def is_palindrome(self):\n",
    "\n",
    "        if self.word == self.word[::-1]:\n",
    "            print(\"The string is a palindrome\")\n",
    "        else:\n",
    "            print(\"The string is not a palindrome\")\n",
    "\n"
   ]
  },
  {
   "cell_type": "code",
   "execution_count": 11,
   "id": "7e6d4c55-bdcb-4acb-aea3-b149077dcd7d",
   "metadata": {},
   "outputs": [
    {
     "name": "stdout",
     "output_type": "stream",
     "text": [
      "The string is a palindrome\n"
     ]
    }
   ],
   "source": [
    "object3=make_palindrome(\"mom\")\n",
    "object3.is_palindrome()"
   ]
  },
  {
   "cell_type": "markdown",
   "id": "fd95e604-af76-4e5e-8853-905e1ff3d3ef",
   "metadata": {},
   "source": [
    " # question4. Calculate factorial of a number\n",
    " Write a function calculate_factorial that takes a number as input and returns its factorial. Handle\n",
    " cases where the input is not a non-negative integer or zero.\n",
    " Example: If number is 5 factorials will be (5x4x2x3x2x1=120)\n",
    " Expected output: 120 if number is 5"
   ]
  },
  {
   "cell_type": "code",
   "execution_count": 11,
   "id": "9d7202ce-a516-4dc1-813d-55d6803b9823",
   "metadata": {},
   "outputs": [],
   "source": [
    "def calculate_factorial(number):\n",
    "    multi=1\n",
    "    for i in range(1,6):\n",
    "        multi = multi*i\n",
    "    return(multi)\n"
   ]
  },
  {
   "cell_type": "code",
   "execution_count": 12,
   "id": "9ce8f566-e502-4bca-acbb-9bd06412d004",
   "metadata": {},
   "outputs": [
    {
     "data": {
      "text/plain": [
       "120"
      ]
     },
     "execution_count": 12,
     "metadata": {},
     "output_type": "execute_result"
    }
   ],
   "source": [
    "calculate_factorial(5)\n",
    "\n",
    "\n"
   ]
  },
  {
   "cell_type": "code",
   "execution_count": 10,
   "id": "d78c9aba-1d07-4981-97e6-f7f2dd0c1b3c",
   "metadata": {},
   "outputs": [],
   "source": [
    "class make_factorial:\n",
    "    def __init__(self,number):\n",
    "        self.number=number\n",
    "    def make_factorial(self):\n",
    "        if type(self.number) != int or self.number < 0:\n",
    "            return \n",
    "        factorial = 1\n",
    "        for i in range(1,self.number +1):\n",
    "            factorial *= i\n",
    "\n",
    "        return factorial\n",
    "\n",
    "\n",
    "\n",
    "\n",
    "\n",
    "    "
   ]
  },
  {
   "cell_type": "code",
   "execution_count": 11,
   "id": "77221a7a-53d2-491e-8f14-c44fadb05343",
   "metadata": {},
   "outputs": [
    {
     "data": {
      "text/plain": [
       "120"
      ]
     },
     "execution_count": 11,
     "metadata": {},
     "output_type": "execute_result"
    }
   ],
   "source": [
    "        anchal=make_factorial(5)\n",
    "\n",
    "        anchal.make_factorial()\n",
    "\n",
    "\n",
    "\n",
    "\n"
   ]
  },
  {
   "cell_type": "code",
   "execution_count": null,
   "id": "b0ceea78-9002-4a5c-bfb1-9172adaf8e33",
   "metadata": {},
   "outputs": [],
   "source": [
    "class MakeFactorial:\n",
    "    def __init__(self, number):\n",
    "        self.number = number\n",
    "\n",
    "    def calculate_factorial(self):\n",
    "        # Input को चेक करें कि वो एक non-negative integer है\n",
    "        if type(self.number) != int or self.number < 0:\n",
    "            return \"कृपया एक non-negative integer दें।\"\n",
    "\n",
    "        # Factorial का calculation\n",
    "        factorial = 1\n",
    "        for i in range(1, self.number + 1):\n",
    "            factorial *= i\n",
    "\n",
    "        return factorial\n",
    "\n",
    "# क्लास का instance बनाएं और calculate_factorial को कॉल करें\n",
    "factorial_calculator = MakeFactorial(5)\n",
    "result = factorial_calculator.calculate_factorial()\n",
    "print(result)  # Output: 120\n"
   ]
  },
  {
   "cell_type": "markdown",
   "id": "31501e1e-f435-441c-915f-8965b269ca23",
   "metadata": {},
   "source": [
    "# question 5. What is the value of spam[:2]?\n",
    "   - ['a', 'b'] (first two items)"
   ]
  },
  {
   "cell_type": "code",
   "execution_count": null,
   "id": "5c797713-b5ac-4be2-8cd4-e5309f0f83c8",
   "metadata": {},
   "outputs": [],
   "source": [
    "If spam is the list ['a', 'b', 'c', 'd'], then spam[:2] will give the first two items in the list.\n",
    "\n",
    "So, the result of spam[:2] would be:\n",
    "['a', 'b']\n"
   ]
  },
  {
   "cell_type": "markdown",
   "id": "ec57cdd3-0ddc-4d81-9d6e-cdb0c3362264",
   "metadata": {},
   "source": [
    "\n",
    "question 5. Find the Second Largest Element in a List using for loop.\n",
    " Write a function to find the second largest element in a list without using built-in sorting.\n",
    " Example\n",
    " Input: [7, 5, 8, 2, 10, 9]\n",
    " Expected Output: 9\n",
    " Example\n",
    " Input: [4, 4, 4, 4]\n",
    " Expected Output: None\n",
    " 6. Check for Anagra"
   ]
  },
  {
   "cell_type": "markdown",
   "id": "ac75b719-3341-4477-9754-b38329368a75",
   "metadata": {},
   "source": [
    " # question6. Find the Second Largest Element in a List using for loop.\n",
    " Write a function to find the second largest element in a list without using built-in sorting.\n",
    " Example\n",
    " Input: [7, 5, 8, 2, 10, 9]\n",
    " Expected Output: 9\n",
    " Example\n",
    " Input: [4, 4, 4, 4]\n",
    " Expected Output: None"
   ]
  },
  {
   "cell_type": "code",
   "execution_count": 5,
   "id": "7bc6a2c6-4978-4b84-ae5d-e7e05409b3ab",
   "metadata": {},
   "outputs": [
    {
     "name": "stdout",
     "output_type": "stream",
     "text": [
      "9\n",
      "None\n"
     ]
    }
   ],
   "source": [
    "def second_largest(numbers):\n",
    "    first = second = None\n",
    "    for num in numbers:\n",
    "        if first is None or num > first:\n",
    "            second = first\n",
    "            first = num\n",
    "        elif num != first and (second is None or num > second):\n",
    "            second = num\n",
    "    return second\n",
    "\n",
    "# Testing the function\n",
    "print(second_largest([7, 5, 8, 2, 10, 9]))  # Expected output: 9\n",
    "print(second_largest([4, 4, 4, 4]))        # Expected output: None\n",
    "\n"
   ]
  },
  {
   "cell_type": "markdown",
   "id": "35ddac2e-36cf-4d4a-b845-bdbcd60cf255",
   "metadata": {},
   "source": [
    " # question6. Check for Anagram\n",
    " ● Write a function to check if two input strings are anagrams of each other.\n",
    " ● Ananagramisawordorphrasethatis formed by rearranging the letters of another word or phrase.\n",
    " To be anagrams, two strings must contain the exact same characters in the same quantities, but in any\n",
    " order.\n",
    " ● Example:\"listen\" and \"silent\" are anagrams"
   ]
  },
  {
   "cell_type": "code",
   "execution_count": 1,
   "id": "0c29702e-d46e-4b1a-aadd-1e1eb9d45c23",
   "metadata": {},
   "outputs": [
    {
     "name": "stdout",
     "output_type": "stream",
     "text": [
      "True\n",
      "False\n"
     ]
    }
   ],
   "source": [
    "def are_anagrams(str1, str2):\n",
    "    # Agar lengths same nahi hain toh anagrams nahi ho sakte\n",
    "    if len(str1) != len(str2):\n",
    "        return False\n",
    "\n",
    "    # 26 size ka array banate hain har character ka count store karne ke liye\n",
    "    count = [0] * 26\n",
    "\n",
    "    # Pehle string ke characters ka count increment karenge\n",
    "    for char in str1:\n",
    "        count[ord(char) - ord('a')] += 1\n",
    "\n",
    "    # Doosri string ke characters ka count decrement karenge\n",
    "    for char in str2:\n",
    "        count[ord(char) - ord('a')] -= 1\n",
    "\n",
    "    # Agar array ke sabhi elements zero hain toh anagrams hain\n",
    "    for c in count:\n",
    "        if c != 0:\n",
    "            return False\n",
    "\n",
    "    return True\n",
    "\n",
    "# Testing the function\n",
    "print(are_anagrams(\"listen\", \"silent\"))  # Expected output: True\n",
    "print(are_anagrams(\"hello\", \"bello\"))    # Expected output: False"
   ]
  },
  {
   "cell_type": "markdown",
   "id": "a5723be6-0282-4c0d-91d2-625e4111b15a",
   "metadata": {},
   "source": [
    "# question 7. Count Vowels in a String\n",
    " ● Takeastring as input and count the number of vowels (a, e, i, o, u) in it.\n",
    " ● Ignorecase(i.e., count both uppercase and lowercase vowels).\n",
    " ● Example:“Python” word has 1 vowel sound(o)"
   ]
  },
  {
   "cell_type": "code",
   "execution_count": 5,
   "id": "2e9d36c7-dbec-4027-912d-c0420d96d4a4",
   "metadata": {},
   "outputs": [
    {
     "name": "stdin",
     "output_type": "stream",
     "text": [
      "Enter a string:  anchal\n"
     ]
    },
    {
     "name": "stdout",
     "output_type": "stream",
     "text": [
      "Number of vowels: 2\n"
     ]
    }
   ],
   "source": [
    "# Input string\n",
    "n = input(\"Enter a string: \").lower()\n",
    "\n",
    "# Vowelsvowels = {'a', 'e', 'i', 'o', 'u'}\n",
    "\n",
    "# Count variable\n",
    "count = 0\n",
    "\n",
    "# Har character ko check karna hai\n",
    "for char in n:\n",
    "    if char in vowels:\n",
    "        count += 1\n",
    "\n",
    "# Result print karna\n",
    "print(\"Number of vowels:\", count)\n",
    "\n"
   ]
  },
  {
   "cell_type": "code",
   "execution_count": 11,
   "id": "11b51314-6010-46be-aff9-d1730940c8c5",
   "metadata": {},
   "outputs": [],
   "source": [
    "\n",
    "def count_vowels(n):\n",
    "    n=n.lower()\n",
    "\n",
    "    vowels = {'a', 'e', 'i', 'o', 'u'}\n",
    "\n",
    "    count = 0\n",
    "\n",
    "\n",
    "    for char in n:\n",
    "        if char in vowels:\n",
    "            count +=1\n",
    "    return count       \n",
    "\n"
   ]
  },
  {
   "cell_type": "code",
   "execution_count": 14,
   "id": "ac548a79-025e-424e-82dc-a16733b804c5",
   "metadata": {},
   "outputs": [
    {
     "data": {
      "text/plain": [
       "2"
      ]
     },
     "execution_count": 14,
     "metadata": {},
     "output_type": "execute_result"
    }
   ],
   "source": [
    "count_vowels(\"anchal\")\n"
   ]
  },
  {
   "cell_type": "code",
   "execution_count": 55,
   "id": "22e93dc8-689b-4492-90dd-afb41270a9c7",
   "metadata": {},
   "outputs": [
    {
     "data": {
      "text/plain": [
       "2"
      ]
     },
     "execution_count": 55,
     "metadata": {},
     "output_type": "execute_result"
    }
   ],
   "source": [
    "class countvowels:\n",
    "    def __init__(self,n):\n",
    "        self.n = n\n",
    "    \n",
    "    \n",
    "    def count_vowels(self):\n",
    "        self.n= self.n.lower()\n",
    "        vowels = {'a', 'e', 'i', 'o', 'u'}\n",
    "\n",
    "        count = 0\n",
    "        for char in self.n:\n",
    "            if char in vowels:\n",
    "                 count +=1\n",
    "        return count       \n",
    "\n",
    "\n",
    "\n",
    "\n",
    "class1=countvowels(\"anchal\")\n",
    "class1.count_vowels()\n",
    "\n"
   ]
  },
  {
   "cell_type": "code",
   "execution_count": null,
   "id": "a5de733f-3b47-4414-bcad-e0814cb8daeb",
   "metadata": {},
   "outputs": [],
   "source": []
  },
  {
   "cell_type": "code",
   "execution_count": 56,
   "id": "2ff8279a-34df-42d5-8e06-82609ab05997",
   "metadata": {},
   "outputs": [
    {
     "name": "stdout",
     "output_type": "stream",
     "text": [
      "Calculating the number of vowels in: anchal\n",
      "Vowel count is: 2\n"
     ]
    },
    {
     "data": {
      "text/plain": [
       "2"
      ]
     },
     "execution_count": 56,
     "metadata": {},
     "output_type": "execute_result"
    }
   ],
   "source": [
    "# Decorator function to log the vowel count\n",
    "def log_vowel_count(func):\n",
    "    def wrapper(n):\n",
    "        print(\"Calculating the number of vowels in:\", n)\n",
    "        result = func(n)\n",
    "        print(\"Vowel count is:\", result)\n",
    "        return result\n",
    "    return wrapper\n",
    "\n",
    "# Apply the decorator to count_vowels function\n",
    "@log_vowel_count\n",
    "def count_vowels(n):\n",
    "    n = n.lower()\n",
    "    vowels = {'a', 'e', 'i', 'o', 'u'}\n",
    "    count = 0\n",
    "    for char in n:\n",
    "        if char in vowels:\n",
    "            count += 1\n",
    "    return count\n",
    "\n",
    "# Define a string to test the function\n",
    "say = \"anchal\"\n",
    "count_vowels(say)"
   ]
  },
  {
   "cell_type": "markdown",
   "id": "2d7a8ef0-cb0d-4711-a3fe-bdd2076bbd14",
   "metadata": {},
   "source": [
    "# question 8. Sum of Digits\n",
    " ● Writeafunction that takes an integer as input and returns the sum of its digits.\n",
    " ● Example:sum_of_digits(123)-> 6\n",
    "\n",
    " \n"
   ]
  },
  {
   "cell_type": "code",
   "execution_count": 20,
   "id": "608f8a8f-83ae-404c-94c7-254a5ee97b72",
   "metadata": {},
   "outputs": [
    {
     "name": "stdout",
     "output_type": "stream",
     "text": [
      "6\n"
     ]
    }
   ],
   "source": [
    "def sum_of_digits(number):\n",
    "    number= abs(number)\n",
    "    return sum(int(digit) for digit in str(number))\n",
    "\n",
    "print(sum_of_digits(123)) \n"
   ]
  },
  {
   "cell_type": "markdown",
   "id": "3b3a0464-1c5b-4491-9f91-e47ad25043e4",
   "metadata": {},
   "source": [
    "# question 9. Fibonacci Sequence (Iterative)\n",
    " ● Write a function that prints the first n numbers in the Fibonacci sequence.\n",
    " ● Useaniterative approach.\n",
    " ● Example\n",
    " Input: n = 6\n",
    " Expected Output: 0, 1, 1, 2, 3, 5\n",
    " ● Example\n",
    " Input: n = 1\n",
    " Expected Output: 0\n"
   ]
  },
  {
   "cell_type": "code",
   "execution_count": 2,
   "id": "d3a1cee7-7130-4836-94f3-2ab3ea656f3e",
   "metadata": {},
   "outputs": [
    {
     "name": "stdout",
     "output_type": "stream",
     "text": [
      "[0, 1, 1, 2, 3, 5]\n"
     ]
    }
   ],
   "source": [
    "def fibonacci_sequence(n):\n",
    "    sequence = []\n",
    "    a, b = 0, 1\n",
    "    for _ in range(n):\n",
    "        sequence.append(a)\n",
    "        a, b = b, a + b\n",
    "    return sequence\n",
    "\n",
    "# Example usage\n",
    "print(fibonacci_sequence(6))  # Output: [0, 1, 1, 2, 3, 5]\n"
   ]
  },
  {
   "cell_type": "code",
   "execution_count": null,
   "id": "e3832f2f-6614-4dfb-8c35-65801002909d",
   "metadata": {},
   "outputs": [],
   "source": []
  },
  {
   "cell_type": "markdown",
   "id": "55cd3ce6-9f7f-4c78-9e48-0d9360d8eecb",
   "metadata": {},
   "source": [
    "# question 10. Remove Duplicates from a List\n",
    "● Write a function that removes duplicates from a list while maintaining the original order.\n",
    "● Example\n",
    "Input: [1, 3, 2, 3, 4, 1, 5]\n",
    "Expected Output: [1, 3, 2, 4, 5]\n",
    "● Example\n",
    "Input: [4, 4, 4, 4]\n",
    "Expected Output: [4]"
   ]
  },
  {
   "cell_type": "code",
   "execution_count": 16,
   "id": "e7216dc1-bfd1-4f54-ae2a-3fac3851ab7d",
   "metadata": {},
   "outputs": [],
   "source": [
    "a=[1,3,2,4,1,5,4,3,2,5]\n",
    "def remove_duplicates(duplist):\n",
    "    anchallist=[]\n",
    "    for element in duplist:\n",
    "        if element not in anchallist: \n",
    "            anchallist.append(element)\n",
    "            \n",
    "    return anchallist       "
   ]
  },
  {
   "cell_type": "code",
   "execution_count": 17,
   "id": "94a3f366-507a-4bc2-8d67-c5a9d628d93f",
   "metadata": {},
   "outputs": [
    {
     "name": "stdout",
     "output_type": "stream",
     "text": [
      "[1, 3, 2, 4, 5]\n"
     ]
    }
   ],
   "source": [
    "print(remove_duplicates(a))"
   ]
  },
  {
   "cell_type": "code",
   "execution_count": 2,
   "id": "ea18acf2-7006-4ef5-8367-ebee1d397bc3",
   "metadata": {},
   "outputs": [],
   "source": [
    "\n",
    "def exit_duplicate():\n",
    "    a= [1,2,3,4,5,6,7,7,8,3,4]\n",
    "    anchallist=[]\n",
    "    for element in a:\n",
    "        if element not in anchallist:\n",
    "            anchallist.append(element)\n",
    "            \n",
    "    return anchallist  \n"
   ]
  },
  {
   "cell_type": "code",
   "execution_count": 5,
   "id": "f5bdce63-910d-482b-8c31-e78c96ef83f3",
   "metadata": {},
   "outputs": [
    {
     "data": {
      "text/plain": [
       "[1, 2, 3, 4, 5, 6, 7, 8]"
      ]
     },
     "execution_count": 5,
     "metadata": {},
     "output_type": "execute_result"
    }
   ],
   "source": [
    "exit_duplicate()\n"
   ]
  }
 ],
 "metadata": {
  "kernelspec": {
   "display_name": "Python 3 (ipykernel)",
   "language": "python",
   "name": "python3"
  },
  "language_info": {
   "codemirror_mode": {
    "name": "ipython",
    "version": 3
   },
   "file_extension": ".py",
   "mimetype": "text/x-python",
   "name": "python",
   "nbconvert_exporter": "python",
   "pygments_lexer": "ipython3",
   "version": "3.12.4"
  }
 },
 "nbformat": 4,
 "nbformat_minor": 5
}
